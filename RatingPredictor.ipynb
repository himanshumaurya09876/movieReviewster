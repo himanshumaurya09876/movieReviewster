{
 "cells": [
  {
   "cell_type": "markdown",
   "metadata": {},
   "source": [
    "# Movie Review Classifier and Rating Predictor\n",
    "- Data collected from IMDB Dataset, having reviews with sentiments (positive or negative)\n",
    "- Split the data into training and testing(validating) data\n",
    "- Preprocess the training data\n",
    "    - Tokenization\n",
    "    - Stopwords removal\n",
    "    - Stemming\n",
    "- Build Vocabulary (BoW - Bag of Words)\n",
    "- Structure the train and test data so that models can be applied over them\n",
    "- Build various models and then compare them\n",
    "    - Model 1: BernoulliNB\n",
    "    - Model 2: MultinomialNB\n",
    "    - Model 3: Artificial Neural Network (ANN)\n",
    "- Use best model to predict rating of a movie using its reviews"
   ]
  },
  {
   "cell_type": "code",
   "execution_count": 1,
   "metadata": {},
   "outputs": [],
   "source": [
    "import pandas as pd\n",
    "import numpy as np\n",
    "import matplotlib.pyplot as plt\n",
    "import nltk"
   ]
  },
  {
   "cell_type": "markdown",
   "metadata": {},
   "source": [
    "### Data collection"
   ]
  },
  {
   "cell_type": "code",
   "execution_count": 2,
   "metadata": {},
   "outputs": [],
   "source": [
    "# Read the data from CSV file\n",
    "allReviews=pd.read_csv('IMDB Dataset.csv')"
   ]
  },
  {
   "cell_type": "code",
   "execution_count": 3,
   "metadata": {},
   "outputs": [
    {
     "data": {
      "text/html": [
       "<div>\n",
       "<style scoped>\n",
       "    .dataframe tbody tr th:only-of-type {\n",
       "        vertical-align: middle;\n",
       "    }\n",
       "\n",
       "    .dataframe tbody tr th {\n",
       "        vertical-align: top;\n",
       "    }\n",
       "\n",
       "    .dataframe thead th {\n",
       "        text-align: right;\n",
       "    }\n",
       "</style>\n",
       "<table border=\"1\" class=\"dataframe\">\n",
       "  <thead>\n",
       "    <tr style=\"text-align: right;\">\n",
       "      <th></th>\n",
       "      <th>review</th>\n",
       "      <th>sentiment</th>\n",
       "    </tr>\n",
       "  </thead>\n",
       "  <tbody>\n",
       "    <tr>\n",
       "      <th>0</th>\n",
       "      <td>One of the other reviewers has mentioned that ...</td>\n",
       "      <td>positive</td>\n",
       "    </tr>\n",
       "    <tr>\n",
       "      <th>1</th>\n",
       "      <td>A wonderful little production. &lt;br /&gt;&lt;br /&gt;The...</td>\n",
       "      <td>positive</td>\n",
       "    </tr>\n",
       "    <tr>\n",
       "      <th>2</th>\n",
       "      <td>I thought this was a wonderful way to spend ti...</td>\n",
       "      <td>positive</td>\n",
       "    </tr>\n",
       "    <tr>\n",
       "      <th>3</th>\n",
       "      <td>Basically there's a family where a little boy ...</td>\n",
       "      <td>negative</td>\n",
       "    </tr>\n",
       "    <tr>\n",
       "      <th>4</th>\n",
       "      <td>Petter Mattei's \"Love in the Time of Money\" is...</td>\n",
       "      <td>positive</td>\n",
       "    </tr>\n",
       "  </tbody>\n",
       "</table>\n",
       "</div>"
      ],
      "text/plain": [
       "                                              review sentiment\n",
       "0  One of the other reviewers has mentioned that ...  positive\n",
       "1  A wonderful little production. <br /><br />The...  positive\n",
       "2  I thought this was a wonderful way to spend ti...  positive\n",
       "3  Basically there's a family where a little boy ...  negative\n",
       "4  Petter Mattei's \"Love in the Time of Money\" is...  positive"
      ]
     },
     "execution_count": 3,
     "metadata": {},
     "output_type": "execute_result"
    }
   ],
   "source": [
    "allReviews.head()"
   ]
  },
  {
   "cell_type": "code",
   "execution_count": 4,
   "metadata": {},
   "outputs": [
    {
     "data": {
      "text/plain": [
       "(50000, 2)"
      ]
     },
     "execution_count": 4,
     "metadata": {},
     "output_type": "execute_result"
    }
   ],
   "source": [
    "allReviews.shape"
   ]
  },
  {
   "cell_type": "code",
   "execution_count": 5,
   "metadata": {},
   "outputs": [],
   "source": [
    "# Extract reviews and sentiments from the data\n",
    "X=allReviews['review']\n",
    "y=allReviews['sentiment']"
   ]
  },
  {
   "cell_type": "code",
   "execution_count": 6,
   "metadata": {},
   "outputs": [
    {
     "data": {
      "text/plain": [
       "((50000,), (50000,))"
      ]
     },
     "execution_count": 6,
     "metadata": {},
     "output_type": "execute_result"
    }
   ],
   "source": [
    "X.shape,y.shape"
   ]
  },
  {
   "cell_type": "markdown",
   "metadata": {},
   "source": [
    "### Split data into train and test data"
   ]
  },
  {
   "cell_type": "code",
   "execution_count": 7,
   "metadata": {},
   "outputs": [],
   "source": [
    "from sklearn.model_selection import train_test_split"
   ]
  },
  {
   "cell_type": "code",
   "execution_count": 8,
   "metadata": {},
   "outputs": [],
   "source": [
    "# Split the data into train(80%) and test(20%) \n",
    "X_train,X_test,y_train,y_test=train_test_split(X,y,test_size=0.2,random_state=42)"
   ]
  },
  {
   "cell_type": "code",
   "execution_count": 9,
   "metadata": {},
   "outputs": [
    {
     "data": {
      "text/plain": [
       "((40000,), (40000,))"
      ]
     },
     "execution_count": 9,
     "metadata": {},
     "output_type": "execute_result"
    }
   ],
   "source": [
    "X_train.shape,y_train.shape"
   ]
  },
  {
   "cell_type": "code",
   "execution_count": 10,
   "metadata": {},
   "outputs": [
    {
     "data": {
      "text/plain": [
       "((10000,), (10000,))"
      ]
     },
     "execution_count": 10,
     "metadata": {},
     "output_type": "execute_result"
    }
   ],
   "source": [
    "X_test.shape,y_test.shape"
   ]
  },
  {
   "cell_type": "markdown",
   "metadata": {},
   "source": [
    "### Preprocess the training data\n",
    "- Tokenization\n",
    "- Stopwords removal\n",
    "- Stemming"
   ]
  },
  {
   "cell_type": "code",
   "execution_count": 11,
   "metadata": {},
   "outputs": [],
   "source": [
    "from nltk.tokenize import RegexpTokenizer\n",
    "from nltk.corpus import stopwords\n",
    "from nltk.stem import SnowballStemmer"
   ]
  },
  {
   "cell_type": "code",
   "execution_count": 12,
   "metadata": {},
   "outputs": [],
   "source": [
    "# Creating objects\n",
    "myRegExpTokenizer=RegexpTokenizer('[a-z]+')\n",
    "sw=stopwords.words('english')\n",
    "sb=SnowballStemmer('english')"
   ]
  },
  {
   "cell_type": "code",
   "execution_count": 13,
   "metadata": {},
   "outputs": [
    {
     "data": {
      "text/plain": [
       "True"
      ]
     },
     "execution_count": 13,
     "metadata": {},
     "output_type": "execute_result"
    }
   ],
   "source": [
    "'not' in sw"
   ]
  },
  {
   "cell_type": "code",
   "execution_count": 14,
   "metadata": {},
   "outputs": [],
   "source": [
    "sw.remove('not') # 'not' plays an important role in any review"
   ]
  },
  {
   "cell_type": "code",
   "execution_count": 15,
   "metadata": {},
   "outputs": [],
   "source": [
    "X_train=list(X_train) # Converting to list"
   ]
  },
  {
   "cell_type": "code",
   "execution_count": 16,
   "metadata": {},
   "outputs": [],
   "source": [
    "# Preprocessing Data\n",
    "for i in range(len(X_train)):\n",
    "    sentence=X_train[i].lower()\n",
    "    sentence=myRegExpTokenizer.tokenize(sentence) # Tokenizing\n",
    "    sentence=[word for word in sentence if word not in sw] # Stopwords removing\n",
    "    for j in range(len(sentence)):\n",
    "        sentence[j]=sb.stem(sentence[j]) # Stemming\n",
    "    X_train[i]=' '.join(sentence)"
   ]
  },
  {
   "cell_type": "code",
   "execution_count": 17,
   "metadata": {},
   "outputs": [
    {
     "data": {
      "text/plain": [
       "['kept ask mani fight scream match swear general mayhem permeat minut comparison also stand think one dimension charact littl depth virtual imposs care happen bad written cypher director hang multicultur belief topic done much better drama tv cinema br br must confess not realli one spot bad perform film must said nichola burley heroin slutti best friend wasim zakir nasti bulli brother absolut terribl know act school graduat appli full refund post hast samina awan lead role manag impress cast call british talent probabl never hear least hope next time hire differ scout br br anoth intrigu thought hideous fashion soundtrack featur like snow patrol ian brown kean bit music fan familiar artist output recognis track movi apart omnipres run b side anyon get mani mani music montag telegraph suppos feel accompani startl origin imag coupl kiss swollen lake canoodl doorway problem none song convey mood effici realis director lack abil carri emot journey audienc storytel dialogu alon br br end presum meant dessert everybodi get comeupp least one big shock store remain resolut unmov script given one root not enough tackl hot button issu actual give us plot alreadi done death individu window dress stand film nobl failur promis lead actress mild divert punch up save bin must tri harder',\n",
       " 'not watch entir movi could not watch entir movi stop dvd watch half hour suggest anyon think watch stop take disc case br br like mafia movi tragic comic corki romano describ tragic attempt mafia comedi br br problem corki romano simpli tri hard get audienc laugh plot seem excus move chris kattan corki one scene anoth corki complet overplay lack subtleti credul strang manner come across contriv chris kattan clear act rather take role bounc right stori scene utter predict comed event occur set obvious soon scene introduc comedi mr bean disast caus titl charact funni empathis charact motiv initi event situat charact end not telegraph corki howev give feel deliber screw desper attempt draw laugh audienc br br chris not play alien charact never realli connect charact movi whose behaviour entir inexplic except tri draw laugh comedi scene predict stereotyp joke seem far familiar movi could watchabl watch']"
      ]
     },
     "execution_count": 17,
     "metadata": {},
     "output_type": "execute_result"
    }
   ],
   "source": [
    "X_train[:2]"
   ]
  },
  {
   "cell_type": "markdown",
   "metadata": {},
   "source": [
    "### Build Vocabulary (BoW - Bag of Words)"
   ]
  },
  {
   "cell_type": "code",
   "execution_count": 18,
   "metadata": {},
   "outputs": [],
   "source": [
    "# Using Tfidf vectorizer\n",
    "from sklearn.feature_extraction.text import TfidfVectorizer"
   ]
  },
  {
   "cell_type": "code",
   "execution_count": 19,
   "metadata": {},
   "outputs": [],
   "source": [
    "# Creating object\n",
    "tfidf=TfidfVectorizer()"
   ]
  },
  {
   "cell_type": "code",
   "execution_count": 20,
   "metadata": {},
   "outputs": [],
   "source": [
    "# Let's fit_transform the reviews to build the vocab\n",
    "vocab=tfidf.fit_transform(X_train)"
   ]
  },
  {
   "cell_type": "code",
   "execution_count": 21,
   "metadata": {},
   "outputs": [
    {
     "data": {
      "text/plain": [
       "(40000, 61974)"
      ]
     },
     "execution_count": 21,
     "metadata": {},
     "output_type": "execute_result"
    }
   ],
   "source": [
    "vocab.shape"
   ]
  },
  {
   "cell_type": "code",
   "execution_count": 22,
   "metadata": {},
   "outputs": [
    {
     "data": {
      "text/plain": [
       "<40000x61974 sparse matrix of type '<class 'numpy.float64'>'\n",
       "\twith 3754646 stored elements in Compressed Sparse Row format>"
      ]
     },
     "execution_count": 22,
     "metadata": {},
     "output_type": "execute_result"
    }
   ],
   "source": [
    "vocab "
   ]
  },
  {
   "cell_type": "markdown",
   "metadata": {},
   "source": [
    "### Structure trainData and testData(need Preprocessing) in proper format"
   ]
  },
  {
   "cell_type": "code",
   "execution_count": 23,
   "metadata": {},
   "outputs": [],
   "source": [
    "from sklearn.preprocessing import LabelEncoder"
   ]
  },
  {
   "cell_type": "code",
   "execution_count": 24,
   "metadata": {},
   "outputs": [],
   "source": [
    "le=LabelEncoder()"
   ]
  },
  {
   "cell_type": "code",
   "execution_count": 25,
   "metadata": {},
   "outputs": [],
   "source": [
    "#training data\n",
    "xtrainData=vocab\n",
    "ytrainData=le.fit_transform(y_train) # To encode labels in outputs"
   ]
  },
  {
   "cell_type": "code",
   "execution_count": 26,
   "metadata": {},
   "outputs": [],
   "source": [
    "#testing data\n",
    "X_test=list(X_test) # Converting to list"
   ]
  },
  {
   "cell_type": "code",
   "execution_count": 27,
   "metadata": {},
   "outputs": [],
   "source": [
    "# Preprocessing Data -> testing data need to be preprocessed similar to training data, prior to testing\n",
    "for i in range(len(X_test)):\n",
    "    sentence=X_test[i].lower()\n",
    "    sentence=myRegExpTokenizer.tokenize(sentence) # Tokenizing\n",
    "    sentence=[word for word in sentence if word not in sw] # Stopwords removing\n",
    "    for j in range(len(sentence)):\n",
    "        sentence[j]=sb.stem(sentence[j]) # Stemming\n",
    "    X_test[i]=' '.join(sentence)"
   ]
  },
  {
   "cell_type": "code",
   "execution_count": 28,
   "metadata": {},
   "outputs": [],
   "source": [
    "xtestData=tfidf.transform(X_test)\n",
    "ytestData=le.fit_transform(y_test) # To encode labels in outputs"
   ]
  },
  {
   "cell_type": "code",
   "execution_count": 29,
   "metadata": {},
   "outputs": [
    {
     "data": {
      "text/plain": [
       "((40000, 61974), (40000,))"
      ]
     },
     "execution_count": 29,
     "metadata": {},
     "output_type": "execute_result"
    }
   ],
   "source": [
    "xtrainData.shape,ytrainData.shape"
   ]
  },
  {
   "cell_type": "code",
   "execution_count": 30,
   "metadata": {},
   "outputs": [
    {
     "data": {
      "text/plain": [
       "((10000, 61974), (10000,))"
      ]
     },
     "execution_count": 30,
     "metadata": {},
     "output_type": "execute_result"
    }
   ],
   "source": [
    "xtestData.shape,ytestData.shape"
   ]
  },
  {
   "cell_type": "markdown",
   "metadata": {},
   "source": [
    "## Build models and compare them"
   ]
  },
  {
   "cell_type": "code",
   "execution_count": 31,
   "metadata": {},
   "outputs": [],
   "source": [
    "from sklearn.metrics import plot_confusion_matrix # To plot confusion metrix"
   ]
  },
  {
   "cell_type": "code",
   "execution_count": 32,
   "metadata": {},
   "outputs": [],
   "source": [
    "modelDict={\n",
    "    1:'Bernoulli Naive Bayes',\n",
    "    2:'Multinomial Naive Bayes',\n",
    "    3:'Artificial Nerual Network (ANN)'\n",
    "}\n",
    "Accuracies=[]"
   ]
  },
  {
   "cell_type": "markdown",
   "metadata": {},
   "source": [
    "### Model 1 - Bernoulli Naive Bayes"
   ]
  },
  {
   "cell_type": "code",
   "execution_count": 33,
   "metadata": {},
   "outputs": [],
   "source": [
    "from sklearn.naive_bayes import BernoulliNB"
   ]
  },
  {
   "cell_type": "code",
   "execution_count": 34,
   "metadata": {},
   "outputs": [],
   "source": [
    "bnb_model=BernoulliNB() # Creating object/ model"
   ]
  },
  {
   "cell_type": "code",
   "execution_count": 35,
   "metadata": {},
   "outputs": [
    {
     "data": {
      "text/plain": [
       "BernoulliNB()"
      ]
     },
     "execution_count": 35,
     "metadata": {},
     "output_type": "execute_result"
    }
   ],
   "source": [
    "bnb_model.fit(xtrainData,ytrainData) # Training the model"
   ]
  },
  {
   "cell_type": "code",
   "execution_count": 36,
   "metadata": {},
   "outputs": [
    {
     "name": "stdout",
     "output_type": "stream",
     "text": [
      "0.886\n"
     ]
    }
   ],
   "source": [
    "print(bnb_model.score(xtrainData,ytrainData)) # Accuracy on training data"
   ]
  },
  {
   "cell_type": "code",
   "execution_count": 37,
   "metadata": {},
   "outputs": [
    {
     "name": "stdout",
     "output_type": "stream",
     "text": [
      "0.8472\n"
     ]
    }
   ],
   "source": [
    "acc_bnb=bnb_model.score(xtestData,ytestData) # Accuracy on testing data\n",
    "Accuracies.append(acc_bnb)\n",
    "print(acc_bnb)"
   ]
  },
  {
   "cell_type": "code",
   "execution_count": 38,
   "metadata": {},
   "outputs": [],
   "source": [
    "ytestPred_bnb=bnb_model.predict(xtestData) # Predict for test data"
   ]
  },
  {
   "cell_type": "code",
   "execution_count": 39,
   "metadata": {},
   "outputs": [
    {
     "name": "stdout",
     "output_type": "stream",
     "text": [
      "<sklearn.metrics._plot.confusion_matrix.ConfusionMatrixDisplay object at 0x0000012D22D84948>\n"
     ]
    },
    {
     "data": {
      "image/png": "[encoded data removed]",
      "text/plain": [
       "<Figure size 432x288 with 2 Axes>"
      ]
     },
     "metadata": {
      "needs_background": "light"
     },
     "output_type": "display_data"
    }
   ],
   "source": [
    "# Plot confusion matrix\n",
    "confusionMatrix=plot_confusion_matrix(estimator=bnb_model,X=xtestData,y_true=ytestData,cmap=plt.cm.Blues,normalize='true',display_labels=le.classes_) # Plot the confusion matrix for given model\n",
    "confusionMatrix.ax_.set_title('Normalized Confusion Matrix of BernoulliNB')\n",
    "print(confusionMatrix)"
   ]
  },
  {
   "cell_type": "code",
   "execution_count": 40,
   "metadata": {},
   "outputs": [],
   "source": [
    "from sklearn.metrics import ConfusionMatrixDisplay"
   ]
  },
  {
   "cell_type": "code",
   "execution_count": 41,
   "metadata": {},
   "outputs": [
    {
     "data": {
      "text/plain": [
       "<sklearn.metrics._plot.confusion_matrix.ConfusionMatrixDisplay at 0x12d22d4bf88>"
      ]
     },
     "execution_count": 41,
     "metadata": {},
     "output_type": "execute_result"
    }
   ],
   "source": [
    "ConfusionMatrixDisplay(confusionMatrix)"
   ]
  },
  {
   "cell_type": "code",
   "execution_count": null,
   "metadata": {},
   "outputs": [],
   "source": []
  },
  {
   "cell_type": "markdown",
   "metadata": {},
   "source": [
    "### Model 2 - Multinomial Naive Bayes"
   ]
  },
  {
   "cell_type": "code",
   "execution_count": 42,
   "metadata": {},
   "outputs": [],
   "source": [
    "from sklearn.naive_bayes import MultinomialNB"
   ]
  },
  {
   "cell_type": "code",
   "execution_count": 43,
   "metadata": {},
   "outputs": [],
   "source": [
    "mnb_model=MultinomialNB() # Creating object/ model"
   ]
  },
  {
   "cell_type": "code",
   "execution_count": 44,
   "metadata": {},
   "outputs": [
    {
     "data": {
      "text/plain": [
       "MultinomialNB()"
      ]
     },
     "execution_count": 44,
     "metadata": {},
     "output_type": "execute_result"
    }
   ],
   "source": [
    "mnb_model.fit(xtrainData,ytrainData) # Training the model"
   ]
  },
  {
   "cell_type": "code",
   "execution_count": 45,
   "metadata": {},
   "outputs": [
    {
     "name": "stdout",
     "output_type": "stream",
     "text": [
      "0.895925\n"
     ]
    }
   ],
   "source": [
    "print(mnb_model.score(xtrainData,ytrainData)) # Accuracy on training data"
   ]
  },
  {
   "cell_type": "code",
   "execution_count": 46,
   "metadata": {},
   "outputs": [
    {
     "name": "stdout",
     "output_type": "stream",
     "text": [
      "0.8607\n"
     ]
    }
   ],
   "source": [
    "acc_mnb=mnb_model.score(xtestData,ytestData) # Accuracy on testing data\n",
    "Accuracies.append(acc_mnb)\n",
    "print(acc_mnb)"
   ]
  },
  {
   "cell_type": "code",
   "execution_count": 47,
   "metadata": {},
   "outputs": [],
   "source": [
    "ytestPred_mnb=mnb_model.predict(xtestData) # Predict for test data"
   ]
  },
  {
   "cell_type": "code",
   "execution_count": 48,
   "metadata": {},
   "outputs": [
    {
     "name": "stdout",
     "output_type": "stream",
     "text": [
      "<sklearn.metrics._plot.confusion_matrix.ConfusionMatrixDisplay object at 0x0000012D232534C8>\n"
     ]
    },
    {
     "data": {
      "image/png": "[encoded data removed]",
      "text/plain": [
       "<Figure size 432x288 with 2 Axes>"
      ]
     },
     "metadata": {
      "needs_background": "light"
     },
     "output_type": "display_data"
    }
   ],
   "source": [
    "# Plot confusion matrix\n",
    "confusionMatrix=plot_confusion_matrix(estimator=mnb_model,X=xtestData,y_true=ytestData,cmap=plt.cm.Blues,normalize='true',display_labels=le.classes_) # Plot the confusion matrix for given model\n",
    "confusionMatrix.ax_.set_title('Normalized Confusion Matrix of MultinomialNB')\n",
    "print(confusionMatrix)"
   ]
  },
  {
   "cell_type": "markdown",
   "metadata": {},
   "source": [
    "### Model 3 - Artificial Neural Network (ANN)"
   ]
  },
  {
   "cell_type": "code",
   "execution_count": 49,
   "metadata": {},
   "outputs": [],
   "source": [
    "from keras.models import Sequential\n",
    "from keras.layers import Dense,Dropout"
   ]
  },
  {
   "cell_type": "code",
   "execution_count": 50,
   "metadata": {},
   "outputs": [],
   "source": [
    "model=Sequential() # Creating object/model"
   ]
  },
  {
   "cell_type": "code",
   "execution_count": 51,
   "metadata": {},
   "outputs": [],
   "source": [
    "# Defining architecture of model\n",
    "model.add(Dense(units=16,activation='relu',input_shape=(61974,))) # Input layer\n",
    "model.add(Dropout(0.3)) # Hidden layer\n",
    "model.add(Dense(units=32,activation='relu')) # Hidden layer\n",
    "model.add(Dropout(0.4)) # Hidden layer\n",
    "model.add(Dense(units=16,activation='relu')) # Hidden layer\n",
    "model.add(Dropout(0.2)) # Hidden layer\n",
    "model.add(Dense(units=8,activation='relu')) # Hidden layer\n",
    "model.add(Dropout(0.1)) # Hidden layer\n",
    "model.add(Dense(units=4,activation='relu')) # Hidden layer\n",
    "model.add(Dense(units=2,activation='softmax')) # Output layer"
   ]
  },
  {
   "cell_type": "code",
   "execution_count": 52,
   "metadata": {},
   "outputs": [
    {
     "name": "stdout",
     "output_type": "stream",
     "text": [
      "Model: \"sequential\"\n",
      "_________________________________________________________________\n",
      "Layer (type)                 Output Shape              Param #   \n",
      "=================================================================\n",
      "dense (Dense)                (None, 16)                991600    \n",
      "_________________________________________________________________\n",
      "dropout (Dropout)            (None, 16)                0         \n",
      "_________________________________________________________________\n",
      "dense_1 (Dense)              (None, 32)                544       \n",
      "_________________________________________________________________\n",
      "dropout_1 (Dropout)          (None, 32)                0         \n",
      "_________________________________________________________________\n",
      "dense_2 (Dense)              (None, 16)                528       \n",
      "_________________________________________________________________\n",
      "dropout_2 (Dropout)          (None, 16)                0         \n",
      "_________________________________________________________________\n",
      "dense_3 (Dense)              (None, 8)                 136       \n",
      "_________________________________________________________________\n",
      "dropout_3 (Dropout)          (None, 8)                 0         \n",
      "_________________________________________________________________\n",
      "dense_4 (Dense)              (None, 4)                 36        \n",
      "_________________________________________________________________\n",
      "dense_5 (Dense)              (None, 2)                 10        \n",
      "=================================================================\n",
      "Total params: 992,854\n",
      "Trainable params: 992,854\n",
      "Non-trainable params: 0\n",
      "_________________________________________________________________\n"
     ]
    }
   ],
   "source": [
    "model.summary()"
   ]
  },
  {
   "cell_type": "code",
   "execution_count": 53,
   "metadata": {},
   "outputs": [],
   "source": [
    "# model compilation\n",
    "model.compile(optimizer=\"adam\",loss=\"categorical_crossentropy\",metrics=[\"accuracy\"])"
   ]
  },
  {
   "cell_type": "code",
   "execution_count": 54,
   "metadata": {},
   "outputs": [],
   "source": [
    "from keras.utils import to_categorical"
   ]
  },
  {
   "cell_type": "code",
   "execution_count": 55,
   "metadata": {},
   "outputs": [],
   "source": [
    "# Outputs need to be converted to categorical\n",
    "ytrainDataCat=to_categorical(ytrainData)\n",
    "ytestDataCat=to_categorical(ytestData)"
   ]
  },
  {
   "cell_type": "code",
   "execution_count": 56,
   "metadata": {},
   "outputs": [
    {
     "name": "stdout",
     "output_type": "stream",
     "text": [
      "(40000, 2) (10000, 2)\n"
     ]
    }
   ],
   "source": [
    "print(ytrainDataCat.shape,ytestDataCat.shape)"
   ]
  },
  {
   "cell_type": "code",
   "execution_count": 57,
   "metadata": {},
   "outputs": [],
   "source": [
    "# Sort the sparse matrices based on thier indices\n",
    "xtrainData.sort_indices()\n",
    "xtestData.sort_indices()"
   ]
  },
  {
   "cell_type": "code",
   "execution_count": 58,
   "metadata": {},
   "outputs": [],
   "source": [
    "from keras.callbacks import ModelCheckpoint,EarlyStopping\n",
    "checkpnt=ModelCheckpoint('./best_model.h5',monitor='val_accuracy',verbose=1,save_best_only=True,save_weights_only=False,mode='auto') # Whenever val_accuaracy is increased then current model is saved\n",
    "earlystop=EarlyStopping(monitor='val_accuracy',min_delta=0.005,patience=5,verbose=1,mode='auto',restore_best_weights=True) # If val_accuarcy is not improved by 0.005 for 5 epochs then it will early stop"
   ]
  },
  {
   "cell_type": "code",
   "execution_count": 59,
   "metadata": {},
   "outputs": [
    {
     "name": "stdout",
     "output_type": "stream",
     "text": [
      "Epoch 1/10\n",
      "1245/1250 [============================>.] - ETA: 0s - loss: 0.3581 - accuracy: 0.8509\n",
      "Epoch 00001: val_accuracy improved from -inf to 0.89450, saving model to ./best_model.h5\n",
      "1250/1250 [==============================] - 11s 9ms/step - loss: 0.3574 - accuracy: 0.8512 - val_loss: 0.2542 - val_accuracy: 0.8945\n",
      "Epoch 2/10\n",
      "1246/1250 [============================>.] - ETA: 0s - loss: 0.1878 - accuracy: 0.9309\n",
      "Epoch 00002: val_accuracy did not improve from 0.89450\n",
      "1250/1250 [==============================] - 10s 8ms/step - loss: 0.1876 - accuracy: 0.9309 - val_loss: 0.2759 - val_accuracy: 0.8945\n",
      "Epoch 3/10\n",
      "1244/1250 [============================>.] - ETA: 0s - loss: 0.1215 - accuracy: 0.9552\n",
      "Epoch 00003: val_accuracy did not improve from 0.89450\n",
      "1250/1250 [==============================] - 10s 8ms/step - loss: 0.1215 - accuracy: 0.9552 - val_loss: 0.3217 - val_accuracy: 0.8910\n",
      "Epoch 4/10\n",
      "1248/1250 [============================>.] - ETA: 0s - loss: 0.0846 - accuracy: 0.9682\n",
      "Epoch 00004: val_accuracy did not improve from 0.89450\n",
      "1250/1250 [==============================] - 10s 8ms/step - loss: 0.0846 - accuracy: 0.9683 - val_loss: 0.3750 - val_accuracy: 0.8845\n",
      "Epoch 5/10\n",
      "1245/1250 [============================>.] - ETA: 0s - loss: 0.0600 - accuracy: 0.9755\n",
      "Epoch 00005: val_accuracy did not improve from 0.89450\n",
      "1250/1250 [==============================] - 10s 8ms/step - loss: 0.0601 - accuracy: 0.9756 - val_loss: 0.5097 - val_accuracy: 0.8889\n",
      "Epoch 6/10\n",
      "1247/1250 [============================>.] - ETA: 0s - loss: 0.0518 - accuracy: 0.9777\n",
      "Epoch 00006: val_accuracy did not improve from 0.89450\n",
      "Restoring model weights from the end of the best epoch.\n",
      "1250/1250 [==============================] - 10s 8ms/step - loss: 0.0519 - accuracy: 0.9777 - val_loss: 0.5490 - val_accuracy: 0.8874\n",
      "Epoch 00006: early stopping\n"
     ]
    }
   ],
   "source": [
    "hist=model.fit(x=xtrainData,y=ytrainDataCat,batch_size=32,epochs=10,validation_data=(xtestData,ytestDataCat),callbacks=[checkpnt,earlystop]) # Train the model"
   ]
  },
  {
   "cell_type": "code",
   "execution_count": 60,
   "metadata": {},
   "outputs": [],
   "source": [
    "from keras.models import load_model"
   ]
  },
  {
   "cell_type": "code",
   "execution_count": 61,
   "metadata": {},
   "outputs": [],
   "source": [
    "best_model=load_model('best_model.h5') # Load the best model with maximum val_accuracy"
   ]
  },
  {
   "cell_type": "code",
   "execution_count": 62,
   "metadata": {},
   "outputs": [
    {
     "name": "stdout",
     "output_type": "stream",
     "text": [
      "Model: \"sequential\"\n",
      "_________________________________________________________________\n",
      "Layer (type)                 Output Shape              Param #   \n",
      "=================================================================\n",
      "dense (Dense)                (None, 16)                991600    \n",
      "_________________________________________________________________\n",
      "dropout (Dropout)            (None, 16)                0         \n",
      "_________________________________________________________________\n",
      "dense_1 (Dense)              (None, 32)                544       \n",
      "_________________________________________________________________\n",
      "dropout_1 (Dropout)          (None, 32)                0         \n",
      "_________________________________________________________________\n",
      "dense_2 (Dense)              (None, 16)                528       \n",
      "_________________________________________________________________\n",
      "dropout_2 (Dropout)          (None, 16)                0         \n",
      "_________________________________________________________________\n",
      "dense_3 (Dense)              (None, 8)                 136       \n",
      "_________________________________________________________________\n",
      "dropout_3 (Dropout)          (None, 8)                 0         \n",
      "_________________________________________________________________\n",
      "dense_4 (Dense)              (None, 4)                 36        \n",
      "_________________________________________________________________\n",
      "dense_5 (Dense)              (None, 2)                 10        \n",
      "=================================================================\n",
      "Total params: 992,854\n",
      "Trainable params: 992,854\n",
      "Non-trainable params: 0\n",
      "_________________________________________________________________\n"
     ]
    }
   ],
   "source": [
    "best_model.summary()"
   ]
  },
  {
   "cell_type": "code",
   "execution_count": 63,
   "metadata": {},
   "outputs": [
    {
     "data": {
      "text/plain": [
       "0.8945000171661377"
      ]
     },
     "execution_count": 63,
     "metadata": {},
     "output_type": "execute_result"
    }
   ],
   "source": [
    "np.max(hist.history['val_accuracy']) # val_accuracy of best model"
   ]
  },
  {
   "cell_type": "code",
   "execution_count": 64,
   "metadata": {},
   "outputs": [
    {
     "data": {
      "text/plain": [
       "0.8512499928474426"
      ]
     },
     "execution_count": 64,
     "metadata": {},
     "output_type": "execute_result"
    }
   ],
   "source": [
    "hist.history['accuracy'][np.argmax(hist.history['val_accuracy'])] # accuracy of best model"
   ]
  },
  {
   "cell_type": "code",
   "execution_count": 65,
   "metadata": {},
   "outputs": [
    {
     "name": "stdout",
     "output_type": "stream",
     "text": [
      "1250/1250 [==============================] - 3s 2ms/step - loss: 0.1589 - accuracy: 0.9465\n"
     ]
    },
    {
     "data": {
      "text/plain": [
       "[0.1589428186416626, 0.9465000033378601]"
      ]
     },
     "execution_count": 65,
     "metadata": {},
     "output_type": "execute_result"
    }
   ],
   "source": [
    "best_model.evaluate(xtrainData,ytrainDataCat) "
   ]
  },
  {
   "cell_type": "code",
   "execution_count": 66,
   "metadata": {},
   "outputs": [
    {
     "name": "stdout",
     "output_type": "stream",
     "text": [
      "313/313 [==============================] - 1s 2ms/step - loss: 0.2542 - accuracy: 0.8945\n",
      "0.8945000171661377\n"
     ]
    }
   ],
   "source": [
    "acc_ANN=best_model.evaluate(xtestData,ytestDataCat)[1]\n",
    "Accuracies.append(acc_ANN)\n",
    "print(acc_ANN)"
   ]
  },
  {
   "cell_type": "code",
   "execution_count": 67,
   "metadata": {},
   "outputs": [
    {
     "name": "stdout",
     "output_type": "stream",
     "text": [
      "WARNING:tensorflow:From <ipython-input-67-2fc0935b82f6>:1: Sequential.predict_classes (from tensorflow.python.keras.engine.sequential) is deprecated and will be removed after 2021-01-01.\n",
      "Instructions for updating:\n",
      "Please use instead:* `np.argmax(model.predict(x), axis=-1)`,   if your model does multi-class classification   (e.g. if it uses a `softmax` last-layer activation).* `(model.predict(x) > 0.5).astype(\"int32\")`,   if your model does binary classification   (e.g. if it uses a `sigmoid` last-layer activation).\n"
     ]
    }
   ],
   "source": [
    "ytestPred_ANN=model.predict_classes(xtestData) # Predict for test data"
   ]
  },
  {
   "cell_type": "code",
   "execution_count": 68,
   "metadata": {},
   "outputs": [
    {
     "name": "stdout",
     "output_type": "stream",
     "text": [
      "[[0.89195727 0.10804273]\n",
      " [0.10299663 0.89700337]]\n"
     ]
    }
   ],
   "source": [
    "from sklearn.metrics import confusion_matrix\n",
    "# Plot confusion matrix\n",
    "confusionMatrix=confusion_matrix(y_true=ytestData,y_pred=ytestPred_ANN,normalize='true') # Plot the confusion matrix for given model\n",
    "print(confusionMatrix)"
   ]
  },
  {
   "cell_type": "markdown",
   "metadata": {},
   "source": [
    "## Predict rating of movie using reviews and best model"
   ]
  },
  {
   "cell_type": "code",
   "execution_count": 89,
   "metadata": {},
   "outputs": [],
   "source": [
    "def predictRating(movieReviews):\n",
    "    movieReviews=list(movieReviews)\n",
    "    # Do same preprocessing as done for testing data\n",
    "    for i in range(len(movieReviews)):\n",
    "        sentence=movieReviews[i].lower()\n",
    "        sentence=myRegExpTokenizer.tokenize(sentence) # Tokenizing\n",
    "        sentence=[word for word in sentence if word not in sw] # Stopwords removing\n",
    "        for j in range(len(sentence)):\n",
    "            sentence[j]=sb.stem(sentence[j]) # Stemming\n",
    "        movieReviews[i]=' '.join(sentence)\n",
    "    \n",
    "    # Transform the given reviews for model\n",
    "    print(movieReviews)\n",
    "    movieReviews=tfidf.transform(movieReviews)\n",
    "    \n",
    "    movieReviews.sort_indices()\n",
    "    pred=best_model.predict_classes(movieReviews)\n",
    "    print(pred)\n",
    "    \n",
    "    rating=int((pred.sum()/pred.shape[0])*5)\n",
    "    \n",
    "    return rating"
   ]
  },
  {
   "cell_type": "code",
   "execution_count": 70,
   "metadata": {},
   "outputs": [
    {
     "name": "stdout",
     "output_type": "stream",
     "text": [
      "Movie got 2 stars out of 5.\n"
     ]
    }
   ],
   "source": [
    "# Just to show above function\n",
    "# Lets take some reviews from allReviews to predict rating of movie XYZ\n",
    "movieReviews=allReviews['review'].iloc[100:250]\n",
    "print(\"Movie got\",predictRating(movieReviews),\"stars out of 5.\")"
   ]
  },
  {
   "cell_type": "code",
   "execution_count": 71,
   "metadata": {},
   "outputs": [
    {
     "name": "stdout",
     "output_type": "stream",
     "text": [
      "Movie got 5 stars out of 5.\n",
      "0    positive\n",
      "1    positive\n",
      "2    positive\n",
      "3    negative\n",
      "4    positive\n",
      "Name: sentiment, dtype: object\n"
     ]
    }
   ],
   "source": [
    "movieReviews=allReviews['review'].iloc[0:5]\n",
    "print(\"Movie got\",predictRating(movieReviews),\"stars out of 5.\")\n",
    "print(allReviews.iloc[0:5,1])"
   ]
  },
  {
   "cell_type": "code",
   "execution_count": 72,
   "metadata": {},
   "outputs": [
    {
     "name": "stdout",
     "output_type": "stream",
     "text": [
      "Movie got 2 stars out of 5.\n"
     ]
    }
   ],
   "source": [
    "movieReviews=allReviews['review'].iloc[1550:1600]\n",
    "print(\"Movie got\",predictRating(movieReviews),\"stars out of 5.\")"
   ]
  },
  {
   "cell_type": "code",
   "execution_count": 73,
   "metadata": {},
   "outputs": [
    {
     "name": "stdout",
     "output_type": "stream",
     "text": [
      "Movie got 1 stars out of 5.\n",
      "49995    positive\n",
      "49996    negative\n",
      "49997    negative\n",
      "49998    negative\n",
      "49999    negative\n",
      "Name: sentiment, dtype: object\n"
     ]
    }
   ],
   "source": [
    "movieReviews=allReviews['review'].iloc[-5:]\n",
    "print(\"Movie got\",predictRating(movieReviews),\"stars out of 5.\")\n",
    "print(allReviews.iloc[-5:,1])"
   ]
  },
  {
   "cell_type": "markdown",
   "metadata": {},
   "source": [
    "## Lets see which one is the best model, with what accuracy"
   ]
  },
  {
   "cell_type": "code",
   "execution_count": 74,
   "metadata": {},
   "outputs": [
    {
     "name": "stdout",
     "output_type": "stream",
     "text": [
      "Best accuracy is:  0.8945000171661377\n",
      "Best model is:  Artificial Nerual Network (ANN)\n"
     ]
    }
   ],
   "source": [
    "print('Best accuracy is: ',np.max(Accuracies))\n",
    "print('Best model is: ',modelDict[np.argmax(Accuracies)+1])"
   ]
  },
  {
   "cell_type": "markdown",
   "metadata": {},
   "source": [
    "## Conclusion \n",
    "Artificial Neural Network (ANN) is the best model with highest <b>accuracy of 0.8909</b> for movie rating prediction"
   ]
  },
  {
   "cell_type": "code",
   "execution_count": 76,
   "metadata": {},
   "outputs": [
    {
     "name": "stdout",
     "output_type": "stream",
     "text": [
      "Collecting pickle-mixin\n",
      "  Downloading https://files.pythonhosted.org/packages/02/77/9d5eb2201bbc130e2a5cc41fc949e4ab0da74b619107eac1c511be3af7a7/pickle-mixin-1.0.2.tar.gz\n",
      "Building wheels for collected packages: pickle-mixin\n",
      "  Building wheel for pickle-mixin (setup.py): started\n",
      "  Building wheel for pickle-mixin (setup.py): finished with status 'done'\n",
      "  Created wheel for pickle-mixin: filename=pickle_mixin-1.0.2-cp37-none-any.whl size=6003 sha256=46b21d87e05149e906b7463ea375c5b8593406e72462381d2739804fd99ede28\n",
      "  Stored in directory: C:\\Users\\HP\\AppData\\Local\\pip\\Cache\\wheels\\cd\\05\\42\\71de70fa36b9cbb7657bb5793a16f8028c1cdc1bdd3b8e1ac3\n",
      "Successfully built pickle-mixin\n",
      "Installing collected packages: pickle-mixin\n",
      "Successfully installed pickle-mixin-1.0.2\n",
      "Note: you may need to restart the kernel to use updated packages.\n"
     ]
    },
    {
     "name": "stderr",
     "output_type": "stream",
     "text": [
      "WARNING: You are using pip version 19.2.3, however version 21.0.1 is available.\n",
      "You should consider upgrading via the 'python -m pip install --upgrade pip' command.\n"
     ]
    }
   ],
   "source": [
    "pip install pickle-mixin"
   ]
  },
  {
   "cell_type": "code",
   "execution_count": 78,
   "metadata": {},
   "outputs": [],
   "source": [
    "import pickle\n",
    "#store the content\n",
    "with open(\"tfidf.pkl\", 'wb') as handle:\n",
    "                    pickle.dump(tfidf, handle)\n",
    "#load the content\n",
    "#tfidf = pickle.load(open(\"tfidf.pkl\", \"rb\" ) )"
   ]
  },
  {
   "cell_type": "code",
   "execution_count": 82,
   "metadata": {},
   "outputs": [
    {
     "name": "stdout",
     "output_type": "stream",
     "text": [
      "49995    I thought this movie did a down right good job...\n",
      "49996    Bad plot, bad dialogue, bad acting, idiotic di...\n",
      "49997    I am a Catholic taught in parochial elementary...\n",
      "49998    I'm going to have to disagree with the previou...\n",
      "49999    No one expects the Star Trek movies to be high...\n",
      "Name: review, dtype: object\n"
     ]
    }
   ],
   "source": [
    "print(allReviews['review'].iloc[-5:])"
   ]
  },
  {
   "cell_type": "code",
   "execution_count": 90,
   "metadata": {},
   "outputs": [
    {
     "name": "stdout",
     "output_type": "stream",
     "text": [
      "['one expect star trek movi high art fan expect movi good best episod unfortun movi muddl implaus plot left cring far worst nine far movi even chanc watch well known charact interact anoth movi save movi includ goofi scene kirk spock mccoy yosemit br br would say movi not worth rental hard worth watch howev true fan need see movi rent movi way see even cabl channel avoid movi']\n",
      "[0]\n"
     ]
    },
    {
     "data": {
      "text/plain": [
       "0"
      ]
     },
     "execution_count": 90,
     "metadata": {},
     "output_type": "execute_result"
    }
   ],
   "source": [
    "predictRating([\"No one expects the Star Trek movies to be high art, but the fans do expect a movie that is as good as some of the best episodes. Unfortunately, this movie had a muddled, implausible plot that just left me cringing - this is by far the worst of the nine (so far) movies. Even the chance to watch the well known characters interact in another movie can't save this movie - including the goofy scenes with Kirk, Spock and McCoy at Yosemite.<br /><br />I would say this movie is not worth a rental, and hardly worth watching, however for the True Fan who needs to see all the movies, renting this movie is about the only way you'll see it - even the cable channels avoid this movie.\"])"
   ]
  },
  {
   "cell_type": "code",
   "execution_count": null,
   "metadata": {},
   "outputs": [],
   "source": []
  }
 ],
 "metadata": {
  "kernelspec": {
   "display_name": "Python 3",
   "language": "python",
   "name": "python3"
  },
  "language_info": {
   "codemirror_mode": {
    "name": "ipython",
    "version": 3
   },
   "file_extension": ".py",
   "mimetype": "text/x-python",
   "name": "python",
   "nbconvert_exporter": "python",
   "pygments_lexer": "ipython3",
   "version": "3.7.7"
  }
 },
 "nbformat": 4,
 "nbformat_minor": 4
}
